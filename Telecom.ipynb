{
  "cells": [
    {
      "cell_type": "code",
      "execution_count": null,
      "metadata": {
        "id": "x-rGzakEsDHB"
      },
      "outputs": [],
      "source": [
        "import pandas as pd\n",
        "import numpy as np\n",
        "import random\n",
        "import matplotlib.pyplot as plt\n",
        "%matplotlib inline\n",
        "# reading csv file\n",
        "df=pd.read_csv(\"WA_Fn-UseC_-Telco-Customer-Churn.csv\")"
      ]
    },
    {
      "cell_type": "code",
      "execution_count": null,
      "metadata": {
        "id": "ubIM25fDsDHH",
        "outputId": "b0042ec5-404e-457a-a7ea-bd62862f2012"
      },
      "outputs": [
        {
          "data": {
            "text/html": [
              "<div>\n",
              "<style scoped>\n",
              "    .dataframe tbody tr th:only-of-type {\n",
              "        vertical-align: middle;\n",
              "    }\n",
              "\n",
              "    .dataframe tbody tr th {\n",
              "        vertical-align: top;\n",
              "    }\n",
              "\n",
              "    .dataframe thead th {\n",
              "        text-align: right;\n",
              "    }\n",
              "</style>\n",
              "<table border=\"1\" class=\"dataframe\">\n",
              "  <thead>\n",
              "    <tr style=\"text-align: right;\">\n",
              "      <th></th>\n",
              "      <th>customerID</th>\n",
              "      <th>gender</th>\n",
              "      <th>SeniorCitizen</th>\n",
              "      <th>Partner</th>\n",
              "      <th>Dependents</th>\n",
              "      <th>tenure</th>\n",
              "      <th>PhoneService</th>\n",
              "      <th>MultipleLines</th>\n",
              "      <th>InternetService</th>\n",
              "      <th>OnlineSecurity</th>\n",
              "      <th>...</th>\n",
              "      <th>DeviceProtection</th>\n",
              "      <th>TechSupport</th>\n",
              "      <th>StreamingTV</th>\n",
              "      <th>StreamingMovies</th>\n",
              "      <th>Contract</th>\n",
              "      <th>PaperlessBilling</th>\n",
              "      <th>PaymentMethod</th>\n",
              "      <th>MonthlyCharges</th>\n",
              "      <th>TotalCharges</th>\n",
              "      <th>Churn</th>\n",
              "    </tr>\n",
              "  </thead>\n",
              "  <tbody>\n",
              "    <tr>\n",
              "      <th>0</th>\n",
              "      <td>7590-VHVEG</td>\n",
              "      <td>Female</td>\n",
              "      <td>0</td>\n",
              "      <td>Yes</td>\n",
              "      <td>No</td>\n",
              "      <td>1</td>\n",
              "      <td>No</td>\n",
              "      <td>No phone service</td>\n",
              "      <td>DSL</td>\n",
              "      <td>No</td>\n",
              "      <td>...</td>\n",
              "      <td>No</td>\n",
              "      <td>No</td>\n",
              "      <td>No</td>\n",
              "      <td>No</td>\n",
              "      <td>Month-to-month</td>\n",
              "      <td>Yes</td>\n",
              "      <td>Electronic check</td>\n",
              "      <td>29.85</td>\n",
              "      <td>29.85</td>\n",
              "      <td>No</td>\n",
              "    </tr>\n",
              "    <tr>\n",
              "      <th>1</th>\n",
              "      <td>5575-GNVDE</td>\n",
              "      <td>Male</td>\n",
              "      <td>0</td>\n",
              "      <td>No</td>\n",
              "      <td>No</td>\n",
              "      <td>34</td>\n",
              "      <td>Yes</td>\n",
              "      <td>No</td>\n",
              "      <td>DSL</td>\n",
              "      <td>Yes</td>\n",
              "      <td>...</td>\n",
              "      <td>Yes</td>\n",
              "      <td>No</td>\n",
              "      <td>No</td>\n",
              "      <td>No</td>\n",
              "      <td>One year</td>\n",
              "      <td>No</td>\n",
              "      <td>Mailed check</td>\n",
              "      <td>56.95</td>\n",
              "      <td>1889.5</td>\n",
              "      <td>No</td>\n",
              "    </tr>\n",
              "    <tr>\n",
              "      <th>2</th>\n",
              "      <td>3668-QPYBK</td>\n",
              "      <td>Male</td>\n",
              "      <td>0</td>\n",
              "      <td>No</td>\n",
              "      <td>No</td>\n",
              "      <td>2</td>\n",
              "      <td>Yes</td>\n",
              "      <td>No</td>\n",
              "      <td>DSL</td>\n",
              "      <td>Yes</td>\n",
              "      <td>...</td>\n",
              "      <td>No</td>\n",
              "      <td>No</td>\n",
              "      <td>No</td>\n",
              "      <td>No</td>\n",
              "      <td>Month-to-month</td>\n",
              "      <td>Yes</td>\n",
              "      <td>Mailed check</td>\n",
              "      <td>53.85</td>\n",
              "      <td>108.15</td>\n",
              "      <td>Yes</td>\n",
              "    </tr>\n",
              "    <tr>\n",
              "      <th>3</th>\n",
              "      <td>7795-CFOCW</td>\n",
              "      <td>Male</td>\n",
              "      <td>0</td>\n",
              "      <td>No</td>\n",
              "      <td>No</td>\n",
              "      <td>45</td>\n",
              "      <td>No</td>\n",
              "      <td>No phone service</td>\n",
              "      <td>DSL</td>\n",
              "      <td>Yes</td>\n",
              "      <td>...</td>\n",
              "      <td>Yes</td>\n",
              "      <td>Yes</td>\n",
              "      <td>No</td>\n",
              "      <td>No</td>\n",
              "      <td>One year</td>\n",
              "      <td>No</td>\n",
              "      <td>Bank transfer (automatic)</td>\n",
              "      <td>42.30</td>\n",
              "      <td>1840.75</td>\n",
              "      <td>No</td>\n",
              "    </tr>\n",
              "    <tr>\n",
              "      <th>4</th>\n",
              "      <td>9237-HQITU</td>\n",
              "      <td>Female</td>\n",
              "      <td>0</td>\n",
              "      <td>No</td>\n",
              "      <td>No</td>\n",
              "      <td>2</td>\n",
              "      <td>Yes</td>\n",
              "      <td>No</td>\n",
              "      <td>Fiber optic</td>\n",
              "      <td>No</td>\n",
              "      <td>...</td>\n",
              "      <td>No</td>\n",
              "      <td>No</td>\n",
              "      <td>No</td>\n",
              "      <td>No</td>\n",
              "      <td>Month-to-month</td>\n",
              "      <td>Yes</td>\n",
              "      <td>Electronic check</td>\n",
              "      <td>70.70</td>\n",
              "      <td>151.65</td>\n",
              "      <td>Yes</td>\n",
              "    </tr>\n",
              "  </tbody>\n",
              "</table>\n",
              "<p>5 rows × 21 columns</p>\n",
              "</div>"
            ],
            "text/plain": [
              "   customerID  gender  SeniorCitizen Partner Dependents  tenure PhoneService  \\\n",
              "0  7590-VHVEG  Female              0     Yes         No       1           No   \n",
              "1  5575-GNVDE    Male              0      No         No      34          Yes   \n",
              "2  3668-QPYBK    Male              0      No         No       2          Yes   \n",
              "3  7795-CFOCW    Male              0      No         No      45           No   \n",
              "4  9237-HQITU  Female              0      No         No       2          Yes   \n",
              "\n",
              "      MultipleLines InternetService OnlineSecurity  ... DeviceProtection  \\\n",
              "0  No phone service             DSL             No  ...               No   \n",
              "1                No             DSL            Yes  ...              Yes   \n",
              "2                No             DSL            Yes  ...               No   \n",
              "3  No phone service             DSL            Yes  ...              Yes   \n",
              "4                No     Fiber optic             No  ...               No   \n",
              "\n",
              "  TechSupport StreamingTV StreamingMovies        Contract PaperlessBilling  \\\n",
              "0          No          No              No  Month-to-month              Yes   \n",
              "1          No          No              No        One year               No   \n",
              "2          No          No              No  Month-to-month              Yes   \n",
              "3         Yes          No              No        One year               No   \n",
              "4          No          No              No  Month-to-month              Yes   \n",
              "\n",
              "               PaymentMethod MonthlyCharges  TotalCharges Churn  \n",
              "0           Electronic check          29.85         29.85    No  \n",
              "1               Mailed check          56.95        1889.5    No  \n",
              "2               Mailed check          53.85        108.15   Yes  \n",
              "3  Bank transfer (automatic)          42.30       1840.75    No  \n",
              "4           Electronic check          70.70        151.65   Yes  \n",
              "\n",
              "[5 rows x 21 columns]"
            ]
          },
          "execution_count": 2,
          "metadata": {},
          "output_type": "execute_result"
        }
      ],
      "source": [
        "df.head()"
      ]
    },
    {
      "cell_type": "code",
      "execution_count": null,
      "metadata": {
        "id": "kuv5IdAKsDHJ",
        "outputId": "12061288-d209-4fbf-d14a-e0b5e1db14f3"
      },
      "outputs": [
        {
          "data": {
            "text/plain": [
              "(7043, 21)"
            ]
          },
          "execution_count": 3,
          "metadata": {},
          "output_type": "execute_result"
        }
      ],
      "source": [
        "df.shape"
      ]
    },
    {
      "cell_type": "markdown",
      "metadata": {
        "id": "oaqfaZhpsDHK"
      },
      "source": [
        "# Cleaning"
      ]
    },
    {
      "cell_type": "markdown",
      "metadata": {
        "id": "R2_Ti0AosDHM"
      },
      "source": [
        "#### Looking for duplicated valuse, but there is no dublicated values to be dropped"
      ]
    },
    {
      "cell_type": "code",
      "execution_count": null,
      "metadata": {
        "id": "BdiCsWZFsDHN",
        "outputId": "f42e3f5e-8428-4d54-c54f-c3870d963af2",
        "scrolled": true
      },
      "outputs": [
        {
          "data": {
            "text/html": [
              "<div>\n",
              "<style scoped>\n",
              "    .dataframe tbody tr th:only-of-type {\n",
              "        vertical-align: middle;\n",
              "    }\n",
              "\n",
              "    .dataframe tbody tr th {\n",
              "        vertical-align: top;\n",
              "    }\n",
              "\n",
              "    .dataframe thead th {\n",
              "        text-align: right;\n",
              "    }\n",
              "</style>\n",
              "<table border=\"1\" class=\"dataframe\">\n",
              "  <thead>\n",
              "    <tr style=\"text-align: right;\">\n",
              "      <th></th>\n",
              "      <th>customerID</th>\n",
              "      <th>gender</th>\n",
              "      <th>SeniorCitizen</th>\n",
              "      <th>Partner</th>\n",
              "      <th>Dependents</th>\n",
              "      <th>tenure</th>\n",
              "      <th>PhoneService</th>\n",
              "      <th>MultipleLines</th>\n",
              "      <th>InternetService</th>\n",
              "      <th>OnlineSecurity</th>\n",
              "      <th>...</th>\n",
              "      <th>DeviceProtection</th>\n",
              "      <th>TechSupport</th>\n",
              "      <th>StreamingTV</th>\n",
              "      <th>StreamingMovies</th>\n",
              "      <th>Contract</th>\n",
              "      <th>PaperlessBilling</th>\n",
              "      <th>PaymentMethod</th>\n",
              "      <th>MonthlyCharges</th>\n",
              "      <th>TotalCharges</th>\n",
              "      <th>Churn</th>\n",
              "    </tr>\n",
              "  </thead>\n",
              "  <tbody>\n",
              "  </tbody>\n",
              "</table>\n",
              "<p>0 rows × 21 columns</p>\n",
              "</div>"
            ],
            "text/plain": [
              "Empty DataFrame\n",
              "Columns: [customerID, gender, SeniorCitizen, Partner, Dependents, tenure, PhoneService, MultipleLines, InternetService, OnlineSecurity, OnlineBackup, DeviceProtection, TechSupport, StreamingTV, StreamingMovies, Contract, PaperlessBilling, PaymentMethod, MonthlyCharges, TotalCharges, Churn]\n",
              "Index: []\n",
              "\n",
              "[0 rows x 21 columns]"
            ]
          },
          "execution_count": 4,
          "metadata": {},
          "output_type": "execute_result"
        }
      ],
      "source": [
        "duplicate = df[df.duplicated()]\n",
        "duplicate"
      ]
    },
    {
      "cell_type": "markdown",
      "metadata": {
        "id": "de4e1QdNsDHO"
      },
      "source": [
        "#### Looking for null values , but there is no null valuses to be dropped"
      ]
    },
    {
      "cell_type": "code",
      "execution_count": null,
      "metadata": {
        "id": "uWzlhU1ssDHP",
        "outputId": "30b3e793-6723-4afd-8318-a84866d5c615"
      },
      "outputs": [
        {
          "data": {
            "text/html": [
              "<div>\n",
              "<style scoped>\n",
              "    .dataframe tbody tr th:only-of-type {\n",
              "        vertical-align: middle;\n",
              "    }\n",
              "\n",
              "    .dataframe tbody tr th {\n",
              "        vertical-align: top;\n",
              "    }\n",
              "\n",
              "    .dataframe thead th {\n",
              "        text-align: right;\n",
              "    }\n",
              "</style>\n",
              "<table border=\"1\" class=\"dataframe\">\n",
              "  <thead>\n",
              "    <tr style=\"text-align: right;\">\n",
              "      <th></th>\n",
              "      <th>customerID</th>\n",
              "      <th>gender</th>\n",
              "      <th>SeniorCitizen</th>\n",
              "      <th>Partner</th>\n",
              "      <th>Dependents</th>\n",
              "      <th>tenure</th>\n",
              "      <th>PhoneService</th>\n",
              "      <th>MultipleLines</th>\n",
              "      <th>InternetService</th>\n",
              "      <th>OnlineSecurity</th>\n",
              "      <th>...</th>\n",
              "      <th>DeviceProtection</th>\n",
              "      <th>TechSupport</th>\n",
              "      <th>StreamingTV</th>\n",
              "      <th>StreamingMovies</th>\n",
              "      <th>Contract</th>\n",
              "      <th>PaperlessBilling</th>\n",
              "      <th>PaymentMethod</th>\n",
              "      <th>MonthlyCharges</th>\n",
              "      <th>TotalCharges</th>\n",
              "      <th>Churn</th>\n",
              "    </tr>\n",
              "  </thead>\n",
              "  <tbody>\n",
              "  </tbody>\n",
              "</table>\n",
              "<p>0 rows × 21 columns</p>\n",
              "</div>"
            ],
            "text/plain": [
              "Empty DataFrame\n",
              "Columns: [customerID, gender, SeniorCitizen, Partner, Dependents, tenure, PhoneService, MultipleLines, InternetService, OnlineSecurity, OnlineBackup, DeviceProtection, TechSupport, StreamingTV, StreamingMovies, Contract, PaperlessBilling, PaymentMethod, MonthlyCharges, TotalCharges, Churn]\n",
              "Index: []\n",
              "\n",
              "[0 rows x 21 columns]"
            ]
          },
          "execution_count": 5,
          "metadata": {},
          "output_type": "execute_result"
        }
      ],
      "source": [
        "is_NaN = df.isnull()\n",
        "row_has_NaN = is_NaN.any(axis=1)\n",
        "rows_with_NaN = df[row_has_NaN]\n",
        "rows_with_NaN"
      ]
    },
    {
      "cell_type": "markdown",
      "metadata": {
        "id": "lSF2bxmEsDHQ"
      },
      "source": [
        "### Check for logical errors\n"
      ]
    },
    {
      "cell_type": "code",
      "execution_count": null,
      "metadata": {
        "id": "Zo9jmgoqsDHR",
        "outputId": "3bca599b-ce15-4800-9866-fa1eb727b648"
      },
      "outputs": [
        {
          "data": {
            "text/html": [
              "<div>\n",
              "<style scoped>\n",
              "    .dataframe tbody tr th:only-of-type {\n",
              "        vertical-align: middle;\n",
              "    }\n",
              "\n",
              "    .dataframe tbody tr th {\n",
              "        vertical-align: top;\n",
              "    }\n",
              "\n",
              "    .dataframe thead th {\n",
              "        text-align: right;\n",
              "    }\n",
              "</style>\n",
              "<table border=\"1\" class=\"dataframe\">\n",
              "  <thead>\n",
              "    <tr style=\"text-align: right;\">\n",
              "      <th></th>\n",
              "      <th>customerID</th>\n",
              "      <th>gender</th>\n",
              "      <th>SeniorCitizen</th>\n",
              "      <th>Partner</th>\n",
              "      <th>Dependents</th>\n",
              "      <th>tenure</th>\n",
              "      <th>PhoneService</th>\n",
              "      <th>MultipleLines</th>\n",
              "      <th>InternetService</th>\n",
              "      <th>OnlineSecurity</th>\n",
              "      <th>...</th>\n",
              "      <th>DeviceProtection</th>\n",
              "      <th>TechSupport</th>\n",
              "      <th>StreamingTV</th>\n",
              "      <th>StreamingMovies</th>\n",
              "      <th>Contract</th>\n",
              "      <th>PaperlessBilling</th>\n",
              "      <th>PaymentMethod</th>\n",
              "      <th>MonthlyCharges</th>\n",
              "      <th>TotalCharges</th>\n",
              "      <th>Churn</th>\n",
              "    </tr>\n",
              "  </thead>\n",
              "  <tbody>\n",
              "  </tbody>\n",
              "</table>\n",
              "<p>0 rows × 21 columns</p>\n",
              "</div>"
            ],
            "text/plain": [
              "Empty DataFrame\n",
              "Columns: [customerID, gender, SeniorCitizen, Partner, Dependents, tenure, PhoneService, MultipleLines, InternetService, OnlineSecurity, OnlineBackup, DeviceProtection, TechSupport, StreamingTV, StreamingMovies, Contract, PaperlessBilling, PaymentMethod, MonthlyCharges, TotalCharges, Churn]\n",
              "Index: []\n",
              "\n",
              "[0 rows x 21 columns]"
            ]
          },
          "execution_count": 6,
          "metadata": {},
          "output_type": "execute_result"
        }
      ],
      "source": [
        "#it suppose if there is no phone serviece the value in Multiplelines to be No phone service\n",
        "df.query('PhoneService==\"No\" and MultipleLines!=\"No phone service\"')"
      ]
    },
    {
      "cell_type": "code",
      "execution_count": null,
      "metadata": {
        "id": "dMu05csUsDHS",
        "outputId": "3d59474d-312f-40b7-bd44-0a9c1d10b57e"
      },
      "outputs": [
        {
          "data": {
            "text/html": [
              "<div>\n",
              "<style scoped>\n",
              "    .dataframe tbody tr th:only-of-type {\n",
              "        vertical-align: middle;\n",
              "    }\n",
              "\n",
              "    .dataframe tbody tr th {\n",
              "        vertical-align: top;\n",
              "    }\n",
              "\n",
              "    .dataframe thead th {\n",
              "        text-align: right;\n",
              "    }\n",
              "</style>\n",
              "<table border=\"1\" class=\"dataframe\">\n",
              "  <thead>\n",
              "    <tr style=\"text-align: right;\">\n",
              "      <th></th>\n",
              "      <th>customerID</th>\n",
              "      <th>gender</th>\n",
              "      <th>SeniorCitizen</th>\n",
              "      <th>Partner</th>\n",
              "      <th>Dependents</th>\n",
              "      <th>tenure</th>\n",
              "      <th>PhoneService</th>\n",
              "      <th>MultipleLines</th>\n",
              "      <th>InternetService</th>\n",
              "      <th>OnlineSecurity</th>\n",
              "      <th>...</th>\n",
              "      <th>DeviceProtection</th>\n",
              "      <th>TechSupport</th>\n",
              "      <th>StreamingTV</th>\n",
              "      <th>StreamingMovies</th>\n",
              "      <th>Contract</th>\n",
              "      <th>PaperlessBilling</th>\n",
              "      <th>PaymentMethod</th>\n",
              "      <th>MonthlyCharges</th>\n",
              "      <th>TotalCharges</th>\n",
              "      <th>Churn</th>\n",
              "    </tr>\n",
              "  </thead>\n",
              "  <tbody>\n",
              "  </tbody>\n",
              "</table>\n",
              "<p>0 rows × 21 columns</p>\n",
              "</div>"
            ],
            "text/plain": [
              "Empty DataFrame\n",
              "Columns: [customerID, gender, SeniorCitizen, Partner, Dependents, tenure, PhoneService, MultipleLines, InternetService, OnlineSecurity, OnlineBackup, DeviceProtection, TechSupport, StreamingTV, StreamingMovies, Contract, PaperlessBilling, PaymentMethod, MonthlyCharges, TotalCharges, Churn]\n",
              "Index: []\n",
              "\n",
              "[0 rows x 21 columns]"
            ]
          },
          "execution_count": 7,
          "metadata": {},
          "output_type": "execute_result"
        }
      ],
      "source": [
        "#it suppose if there is no inernetservice the value in those columns to be No phone service\n",
        "df.query(('InternetService==\"No\" and OnlineSecurity!=\"No internet service\"')or \\\n",
        "         ('InternetService==\"No\" and DeviceProtection!=\"No internet service\"')or\\\n",
        "         ('InternetService==\"No\" and TechSupport!=\"No internet service\"')or\\\n",
        "         ('InternetService==\"No\" and StreamingTV!=\"No internet service\"')or\\\n",
        "         ('InternetService==\"No\" and StreamingMovies!=\"No internet service\"'))"
      ]
    },
    {
      "cell_type": "markdown",
      "metadata": {
        "id": "mVnqNuExsDHT"
      },
      "source": [
        "### Unify binary data"
      ]
    },
    {
      "cell_type": "code",
      "execution_count": null,
      "metadata": {
        "id": "kl6Udp6FsDHU"
      },
      "outputs": [],
      "source": [
        "# replace yes with 1 and no with 0 in PhoneService\n",
        "df.loc[df[\"PhoneService\"] == \"Yes\", \"PhoneService\"] = 1\n",
        "\n",
        "df.loc[df[\"PhoneService\"] == \"No\", \"PhoneService\"] = 0"
      ]
    },
    {
      "cell_type": "code",
      "execution_count": null,
      "metadata": {
        "id": "4aAZm5c8sDHU",
        "outputId": "96b662d3-2da5-4b30-d889-6a24f453d54c"
      },
      "outputs": [
        {
          "data": {
            "text/plain": [
              "1    6361\n",
              "0     682\n",
              "Name: PhoneService, dtype: int64"
            ]
          },
          "execution_count": 9,
          "metadata": {},
          "output_type": "execute_result"
        }
      ],
      "source": [
        "df[\"PhoneService\"].value_counts()"
      ]
    },
    {
      "cell_type": "code",
      "execution_count": null,
      "metadata": {
        "id": "ldqBXccEsDHV"
      },
      "outputs": [],
      "source": [
        "# replace no with 0 in InternetService\n",
        "df.loc[df[\"InternetService\"] == \"No\", \"InternetService\"] = 0"
      ]
    },
    {
      "cell_type": "code",
      "execution_count": null,
      "metadata": {
        "id": "iXmHitUSsDHV",
        "outputId": "b5b649dc-d5de-4a34-b548-1ab064d931ed"
      },
      "outputs": [
        {
          "data": {
            "text/plain": [
              "Fiber optic    3096\n",
              "DSL            2421\n",
              "0              1526\n",
              "Name: InternetService, dtype: int64"
            ]
          },
          "execution_count": 11,
          "metadata": {},
          "output_type": "execute_result"
        }
      ],
      "source": [
        "df[\"InternetService\"].value_counts()"
      ]
    },
    {
      "cell_type": "code",
      "execution_count": null,
      "metadata": {
        "id": "CwfgHNFzsDHW"
      },
      "outputs": [],
      "source": [
        "# replace yes with 1 and no with 0 in Churn\n",
        "df.loc[df[\"Churn\"] == \"Yes\", \"Churn\"] = 1\n",
        "\n",
        "df.loc[df[\"Churn\"] == \"No\", \"Churn\"] = 0"
      ]
    },
    {
      "cell_type": "code",
      "execution_count": null,
      "metadata": {
        "id": "mcjgp_Q6sDHW",
        "outputId": "1c04b32d-f590-4ae6-94f2-50bc57d8e38e"
      },
      "outputs": [
        {
          "data": {
            "text/plain": [
              "0    5174\n",
              "1    1869\n",
              "Name: Churn, dtype: int64"
            ]
          },
          "execution_count": 13,
          "metadata": {},
          "output_type": "execute_result"
        }
      ],
      "source": [
        "df[\"Churn\"].value_counts()"
      ]
    },
    {
      "cell_type": "markdown",
      "metadata": {
        "id": "lCEbZIWSsDHX"
      },
      "source": [
        "# Insights and Analysis"
      ]
    },
    {
      "cell_type": "markdown",
      "metadata": {
        "id": "yhNyVb0qsDHX"
      },
      "source": [
        "### 1- Relation between senior citizen and churn"
      ]
    },
    {
      "cell_type": "code",
      "execution_count": null,
      "metadata": {
        "id": "cpOkbkcAsDHY",
        "outputId": "d13a2d7f-cefe-4cef-a489-794af0e1e8b9"
      },
      "outputs": [
        {
          "data": {
            "text/plain": [
              "0    0.837853\n",
              "1    0.162147\n",
              "Name: SeniorCitizen, dtype: float64"
            ]
          },
          "execution_count": 14,
          "metadata": {},
          "output_type": "execute_result"
        }
      ],
      "source": [
        "#  propotion\n",
        "df['SeniorCitizen'].value_counts()/df.shape[0]"
      ]
    },
    {
      "cell_type": "code",
      "execution_count": null,
      "metadata": {
        "id": "5tKXded7sDHY",
        "outputId": "60d0ee37-b79b-451c-e98d-d78f7204d47b"
      },
      "outputs": [
        {
          "data": {
            "text/plain": [
              "0.06758483600738321"
            ]
          },
          "execution_count": 15,
          "metadata": {},
          "output_type": "execute_result"
        }
      ],
      "source": [
        "# the propotion churns of the senior citizen in the whole data \n",
        "df[(df['SeniorCitizen']==1) & (df['Churn']==1)].shape[0]/df.shape[0]"
      ]
    },
    {
      "cell_type": "code",
      "execution_count": null,
      "metadata": {
        "id": "TkZWDrF5sDHZ",
        "outputId": "54f67b50-d727-40fe-aa7e-ce983fb1fd75"
      },
      "outputs": [
        {
          "data": {
            "text/plain": [
              "0.4168126094570928"
            ]
          },
          "execution_count": 16,
          "metadata": {},
          "output_type": "execute_result"
        }
      ],
      "source": [
        "## the propotion churns of the senior citizens in the senior citiizens propotion  \n",
        "\n",
        "df[(df['SeniorCitizen']==1) & (df['Churn']==1)].shape[0]/df[df['SeniorCitizen']==1].shape[0]"
      ]
    },
    {
      "cell_type": "code",
      "execution_count": null,
      "metadata": {
        "id": "1UMDdLxNsDHa",
        "outputId": "3b1db39f-6b14-4841-e39a-f7bd26b6defb"
      },
      "outputs": [
        {
          "data": {
            "text/plain": [
              "0.19778503478631265"
            ]
          },
          "execution_count": 17,
          "metadata": {},
          "output_type": "execute_result"
        }
      ],
      "source": [
        "# the propotion churns of  not senior citizen in the whole data \n",
        "\n",
        "df[(df['SeniorCitizen']==0) & (df['Churn']==1)].shape[0]/df.shape[0]"
      ]
    },
    {
      "cell_type": "code",
      "execution_count": null,
      "metadata": {
        "id": "hXu1DWJAsDHa",
        "outputId": "c9e16480-65c3-4ac9-ee14-ab3920adcffe"
      },
      "outputs": [
        {
          "data": {
            "text/plain": [
              "0.23606168446026096"
            ]
          },
          "execution_count": 18,
          "metadata": {},
          "output_type": "execute_result"
        }
      ],
      "source": [
        "## the propotion churns of not senior citizens in the senior citiizens propotion  \n",
        "\n",
        "df[(df['SeniorCitizen']==0) & (df['Churn']==1)].shape[0]/df[df['SeniorCitizen']==0].shape[0]"
      ]
    },
    {
      "cell_type": "markdown",
      "metadata": {
        "id": "UzGSa09KsDHb"
      },
      "source": [
        "### 2- relation between InternetService and churn"
      ]
    },
    {
      "cell_type": "code",
      "execution_count": null,
      "metadata": {
        "id": "6axSaOBYsDHb",
        "outputId": "8cbb2111-e027-4167-cfcf-1783ff7836d0"
      },
      "outputs": [
        {
          "data": {
            "text/plain": [
              "Fiber optic    0.439585\n",
              "DSL            0.343746\n",
              "0              0.216669\n",
              "Name: InternetService, dtype: float64"
            ]
          },
          "execution_count": 19,
          "metadata": {},
          "output_type": "execute_result"
        }
      ],
      "source": [
        "#the propotion\n",
        "df['InternetService'].value_counts()/df.shape[0]"
      ]
    },
    {
      "cell_type": "code",
      "execution_count": null,
      "metadata": {
        "id": "XEIo25l3sDHb",
        "outputId": "3c751bd6-e312-48a9-cbac-f658d702fde5"
      },
      "outputs": [
        {
          "data": {
            "text/plain": [
              "0.18415447962515974"
            ]
          },
          "execution_count": 20,
          "metadata": {},
          "output_type": "execute_result"
        }
      ],
      "source": [
        "# propotion of churn from customers who used fiber optic in the whole dataset\n",
        "df[(df['InternetService']==\"Fiber optic\") & (df['Churn']==1)].shape[0]/df.shape[0]"
      ]
    },
    {
      "cell_type": "code",
      "execution_count": null,
      "metadata": {
        "id": "KV7Hfs2osDHc",
        "outputId": "1886f9b4-d7e6-4e9c-8660-92099203db58"
      },
      "outputs": [
        {
          "data": {
            "text/plain": [
              "0.4189276485788114"
            ]
          },
          "execution_count": 21,
          "metadata": {},
          "output_type": "execute_result"
        }
      ],
      "source": [
        "# propotion of churn from customers who used fiber optic in fiber optics user\n",
        "\n",
        "df[(df['InternetService']==\"Fiber optic\") & (df['Churn']==1)].shape[0]/df[df['InternetService']==\"Fiber optic\"].shape[0]"
      ]
    },
    {
      "cell_type": "code",
      "execution_count": null,
      "metadata": {
        "id": "FJpibnmrsDHc",
        "outputId": "817e5140-488c-41c7-8879-5911eb1bf551"
      },
      "outputs": [
        {
          "data": {
            "text/plain": [
              "0.06517109186426238"
            ]
          },
          "execution_count": 22,
          "metadata": {},
          "output_type": "execute_result"
        }
      ],
      "source": [
        "# propotion of churn from customers who used DSL in the whole dataset\n",
        "\n",
        "df[(df['InternetService']==\"DSL\") & (df['Churn']==1)].shape[0]/df.shape[0]"
      ]
    },
    {
      "cell_type": "code",
      "execution_count": null,
      "metadata": {
        "id": "2BElKDAusDHc",
        "outputId": "80abaeb0-c822-46bd-825a-973df0126e3d"
      },
      "outputs": [
        {
          "data": {
            "text/plain": [
              "0.1895910780669145"
            ]
          },
          "execution_count": 23,
          "metadata": {},
          "output_type": "execute_result"
        }
      ],
      "source": [
        "# propotion of churn from customers who used DSL in DSL user\n",
        "\n",
        "df[(df['InternetService']==\"DSL\") & (df['Churn']==1)].shape[0]/df[df['InternetService']==\"DSL\"].shape[0]"
      ]
    },
    {
      "cell_type": "code",
      "execution_count": null,
      "metadata": {
        "id": "mn0LcbPYsDHd",
        "outputId": "b5cc5dea-67eb-4fe1-d2ea-e1c6882b59be"
      },
      "outputs": [
        {
          "data": {
            "text/plain": [
              "0.016044299304273747"
            ]
          },
          "execution_count": 24,
          "metadata": {},
          "output_type": "execute_result"
        }
      ],
      "source": [
        "# propotion of churn from customers who have no internet service in the whole dataset\n",
        "\n",
        "df[(df['InternetService']==0) & (df['Churn']==1)].shape[0]/df.shape[0]"
      ]
    },
    {
      "cell_type": "code",
      "execution_count": null,
      "metadata": {
        "id": "9CdzEWzGsDHd",
        "outputId": "c6b8e6a6-d2a9-4eda-fc8e-70011f868fcb"
      },
      "outputs": [
        {
          "data": {
            "text/plain": [
              "0.07404980340760157"
            ]
          },
          "execution_count": 25,
          "metadata": {},
          "output_type": "execute_result"
        }
      ],
      "source": [
        "# propotion of churn from customers who have no internet service in no internet service user\n",
        "\n",
        "df[(df['InternetService']==0) & (df['Churn']==1)].shape[0]/df[df['InternetService']==0].shape[0]"
      ]
    },
    {
      "cell_type": "markdown",
      "metadata": {
        "id": "KB9NOAIbsDHe"
      },
      "source": [
        "### 3-relation between gender and churn"
      ]
    },
    {
      "cell_type": "code",
      "execution_count": null,
      "metadata": {
        "id": "9rsMEieSsDHe",
        "outputId": "e6072bf3-302a-466b-b78f-3148bd7a498d"
      },
      "outputs": [
        {
          "data": {
            "text/plain": [
              "Male      0.504756\n",
              "Female    0.495244\n",
              "Name: gender, dtype: float64"
            ]
          },
          "execution_count": 26,
          "metadata": {},
          "output_type": "execute_result"
        }
      ],
      "source": [
        "# propotion of gender \n",
        "\n",
        "df['gender'].value_counts()/df.shape[0]"
      ]
    },
    {
      "cell_type": "code",
      "execution_count": null,
      "metadata": {
        "id": "xsgA60xqsDHe",
        "outputId": "9731ff54-c6e2-425e-f05e-db3efc57ab2a"
      },
      "outputs": [
        {
          "data": {
            "text/plain": [
              "0.133323867670027"
            ]
          },
          "execution_count": 27,
          "metadata": {},
          "output_type": "execute_result"
        }
      ],
      "source": [
        "# propotion of churn from female customers in the whole dataset\n",
        "\n",
        "df[(df['gender']==\"Female\") & (df['Churn']==1)].shape[0]/df.shape[0]"
      ]
    },
    {
      "cell_type": "code",
      "execution_count": null,
      "metadata": {
        "id": "iGWABjYYsDHf",
        "outputId": "5637568d-948b-4b0c-e9c8-b49268e51633"
      },
      "outputs": [
        {
          "data": {
            "text/plain": [
              "0.26920871559633025"
            ]
          },
          "execution_count": 28,
          "metadata": {},
          "output_type": "execute_result"
        }
      ],
      "source": [
        "# propotion of churn from female customers in the female users\n",
        "\n",
        "df[(df['gender']==\"Female\") & (df['Churn']==1)].shape[0]/df[df['gender']==\"Female\"].shape[0]"
      ]
    },
    {
      "cell_type": "code",
      "execution_count": null,
      "metadata": {
        "id": "bhcpA-vFsDHf",
        "outputId": "f6569e2c-37f1-4532-8330-9a5a72be5e1c"
      },
      "outputs": [
        {
          "data": {
            "text/plain": [
              "0.1320460031236689"
            ]
          },
          "execution_count": 29,
          "metadata": {},
          "output_type": "execute_result"
        }
      ],
      "source": [
        "# propotion of churn from male customers in the whole dataset\n",
        "\n",
        "df[(df['gender']==\"Male\") & (df['Churn']==1)].shape[0]/df.shape[0]"
      ]
    },
    {
      "cell_type": "code",
      "execution_count": null,
      "metadata": {
        "id": "PTfqdW_2sDHf",
        "outputId": "9b7fe571-1df0-412e-c75d-edcc0337c605"
      },
      "outputs": [
        {
          "data": {
            "text/plain": [
              "0.2616033755274262"
            ]
          },
          "execution_count": 30,
          "metadata": {},
          "output_type": "execute_result"
        }
      ],
      "source": [
        "# propotion of churn from male customers in the male users\n",
        "\n",
        "df[(df['gender']==\"Male\") & (df['Churn']==1)].shape[0]/df[df['gender']==\"Male\"].shape[0]"
      ]
    },
    {
      "cell_type": "markdown",
      "metadata": {
        "id": "Ayr6JGP3sDHg"
      },
      "source": [
        "### 4- the relation between phone service and churn"
      ]
    },
    {
      "cell_type": "code",
      "execution_count": null,
      "metadata": {
        "id": "6bKSrOJ_sDHg",
        "outputId": "df90056a-2312-410a-b6f3-36feabea459c"
      },
      "outputs": [
        {
          "data": {
            "text/plain": [
              "1    0.903166\n",
              "0    0.096834\n",
              "Name: PhoneService, dtype: float64"
            ]
          },
          "execution_count": 31,
          "metadata": {},
          "output_type": "execute_result"
        }
      ],
      "source": [
        "#propotion of phoneservice\n",
        "df['PhoneService'].value_counts()/df.shape[0]"
      ]
    },
    {
      "cell_type": "code",
      "execution_count": null,
      "metadata": {
        "id": "8aYSqw4SsDHg",
        "outputId": "3a69c378-7354-4dd0-eea4-d73b7624557c"
      },
      "outputs": [
        {
          "data": {
            "text/plain": [
              "0.02413744143120829"
            ]
          },
          "execution_count": 32,
          "metadata": {},
          "output_type": "execute_result"
        }
      ],
      "source": [
        "# propotion of churn from customers who have no Phone service in the whole dataset\n",
        "\n",
        "df[(df['PhoneService']==0) & (df['Churn']==1)].shape[0]/df.shape[0]"
      ]
    },
    {
      "cell_type": "code",
      "execution_count": null,
      "metadata": {
        "id": "hlcLzPndsDHg",
        "outputId": "ed05957d-305a-40ca-b527-9aa3b9118087"
      },
      "outputs": [
        {
          "data": {
            "text/plain": [
              "0.24926686217008798"
            ]
          },
          "execution_count": 33,
          "metadata": {},
          "output_type": "execute_result"
        }
      ],
      "source": [
        "# propotion of churn from customers who have no Phone service in no Phone service user\n",
        "\n",
        "df[(df['PhoneService']==0) & (df['Churn']==1)].shape[0]/df[df['PhoneService']==0].shape[0]"
      ]
    },
    {
      "cell_type": "code",
      "execution_count": null,
      "metadata": {
        "id": "4Y7Ga5x9sDHh",
        "outputId": "50760ee0-a3ae-4a59-bf0f-ac4f9db33544"
      },
      "outputs": [
        {
          "data": {
            "text/plain": [
              "0.24123242936248757"
            ]
          },
          "execution_count": 34,
          "metadata": {},
          "output_type": "execute_result"
        }
      ],
      "source": [
        "# propotion of churn from customers who have  Phone service in the whole dataset\n",
        "df[(df['PhoneService']==1) & (df['Churn']==1)].shape[0]/df.shape[0]\n"
      ]
    },
    {
      "cell_type": "code",
      "execution_count": null,
      "metadata": {
        "id": "YjhWbcuOsDHh",
        "outputId": "90166682-cc3b-4f54-d601-fce7e8c7e27f"
      },
      "outputs": [
        {
          "data": {
            "text/plain": [
              "0.2670963684955196"
            ]
          },
          "execution_count": 35,
          "metadata": {},
          "output_type": "execute_result"
        }
      ],
      "source": [
        "# propotion of churn from customers who have Phone service in Phone service user\n",
        "\n",
        "df[(df['PhoneService']==1) & (df['Churn']==1)].shape[0]/df[df['PhoneService']==1].shape[0]"
      ]
    },
    {
      "cell_type": "markdown",
      "metadata": {
        "id": "9Fh-JSrmsDHh"
      },
      "source": [
        "### 5- the relation between phone service and internet service and churn"
      ]
    },
    {
      "cell_type": "code",
      "execution_count": null,
      "metadata": {
        "id": "W9RSIpYJsDHh",
        "outputId": "69f0df14-25dd-4fa0-ebae-e887b9bc2271"
      },
      "outputs": [
        {
          "data": {
            "text/plain": [
              "0.02413744143120829"
            ]
          },
          "execution_count": 36,
          "metadata": {},
          "output_type": "execute_result"
        }
      ],
      "source": [
        "# propotion of churn from customers who have no Phone service and have internet service in the whole dataset\n",
        "\n",
        "df[(df['PhoneService']==0) & (df['InternetService']!=0) & (df['Churn']==1)].shape[0]/df.shape[0]"
      ]
    },
    {
      "cell_type": "code",
      "execution_count": null,
      "metadata": {
        "id": "2_er4OIWsDHl",
        "outputId": "4b3092c5-77aa-431e-a54d-5192386d0538"
      },
      "outputs": [
        {
          "data": {
            "text/plain": [
              "0.24926686217008798"
            ]
          },
          "execution_count": 37,
          "metadata": {},
          "output_type": "execute_result"
        }
      ],
      "source": [
        "# propotion of churn from customers who have no Phone service and have internet service in\n",
        "#customers who have no Phone service and have internet service\n",
        "\n",
        "df[(df['PhoneService']==0) & (df['InternetService']!=0) & (df['Churn']==1)].shape[0]/\\\n",
        "df[(df['PhoneService']==0) & (df['InternetService']!=0)].shape[0]"
      ]
    },
    {
      "cell_type": "code",
      "execution_count": null,
      "metadata": {
        "id": "tGF0hFUvsDHl",
        "outputId": "b8fa2b34-1c10-4ea0-98df-67c33d3791c5"
      },
      "outputs": [
        {
          "data": {
            "text/plain": [
              "0.016044299304273747"
            ]
          },
          "execution_count": 38,
          "metadata": {},
          "output_type": "execute_result"
        }
      ],
      "source": [
        "# propotion of churn from customers who have no internet service and have Phone service in the whole dataset\n",
        "df[(df['PhoneService']==1) & (df['InternetService']==0) & (df['Churn']==1)].shape[0]/df.shape[0]"
      ]
    },
    {
      "cell_type": "code",
      "execution_count": null,
      "metadata": {
        "id": "DomKnpuBsDHl",
        "outputId": "ecaefdbd-9f10-448d-dfa2-b8aac603c466"
      },
      "outputs": [
        {
          "data": {
            "text/plain": [
              "0.07404980340760157"
            ]
          },
          "execution_count": 39,
          "metadata": {},
          "output_type": "execute_result"
        }
      ],
      "source": [
        "# propotion of churn from customers who have Phone service and have no internet service in\n",
        "#customers who hav Phone service and have no internet service\n",
        "df[(df['PhoneService']==1) & (df['InternetService']==0) & (df['Churn']==1)].shape[0]/\\\n",
        "df[(df['PhoneService']==1) & (df['InternetService']==0)].shape[0]"
      ]
    },
    {
      "cell_type": "code",
      "execution_count": null,
      "metadata": {
        "id": "DNHriOahsDHm",
        "outputId": "de800c6b-b0a4-43ad-f311-50e399900600"
      },
      "outputs": [
        {
          "data": {
            "text/plain": [
              "0.22518813005821384"
            ]
          },
          "execution_count": 40,
          "metadata": {},
          "output_type": "execute_result"
        }
      ],
      "source": [
        "# propotion of churn from customers who have internet service and have Phone service in the whole dataset\n",
        "df[(df['PhoneService']==1) & (df['InternetService']!=0) & (df['Churn']==1)].shape[0]/df.shape[0]"
      ]
    },
    {
      "cell_type": "code",
      "execution_count": null,
      "metadata": {
        "id": "QkTqvHAysDHm",
        "outputId": "5ea87f59-5dca-41b2-f7ce-a0d54da5660a"
      },
      "outputs": [
        {
          "data": {
            "text/plain": [
              "0.3280248190279214"
            ]
          },
          "execution_count": 41,
          "metadata": {},
          "output_type": "execute_result"
        }
      ],
      "source": [
        "# propotion of churn from customers who have Phone service and have internet service in\n",
        "#customers who hav Phone service and have internet service\n",
        "df[(df['PhoneService']==1) & (df['InternetService']!=0) & (df['Churn']==1)].shape[0]/\\\n",
        "df[(df['PhoneService']==1) & (df['InternetService']!=0)].shape[0]"
      ]
    },
    {
      "cell_type": "markdown",
      "metadata": {
        "id": "EkOeyC5GsDHm"
      },
      "source": [
        "### 6- relation between contract and churn"
      ]
    },
    {
      "cell_type": "code",
      "execution_count": null,
      "metadata": {
        "id": "u2hOkzISsDHn",
        "outputId": "8b9cde85-58f6-4c24-f64e-af35ed987d37"
      },
      "outputs": [
        {
          "data": {
            "text/plain": [
              "Month-to-month    0.550192\n",
              "Two year          0.240664\n",
              "One year          0.209144\n",
              "Name: Contract, dtype: float64"
            ]
          },
          "execution_count": 42,
          "metadata": {},
          "output_type": "execute_result"
        }
      ],
      "source": [
        "# the type of contract\n",
        "df['Contract'].value_counts()/df.shape[0]"
      ]
    },
    {
      "cell_type": "code",
      "execution_count": null,
      "metadata": {
        "id": "coNBxslFsDHn",
        "outputId": "17a042a2-624e-48be-9a3a-0423791001aa"
      },
      "outputs": [
        {
          "data": {
            "text/plain": [
              "0.2349850915802925"
            ]
          },
          "execution_count": 43,
          "metadata": {},
          "output_type": "execute_result"
        }
      ],
      "source": [
        "# propotion of churn from customers who have Month-to-month contract in the whole data set\n",
        "\n",
        "df[(df['Contract']=='Month-to-month') & (df['Churn']==1)].shape[0]/df.shape[0]"
      ]
    },
    {
      "cell_type": "code",
      "execution_count": null,
      "metadata": {
        "id": "NL1FUV32sDHo",
        "outputId": "1ba33e5c-458a-459c-f810-bbafb619db11"
      },
      "outputs": [
        {
          "data": {
            "text/plain": [
              "0.4270967741935484"
            ]
          },
          "execution_count": 44,
          "metadata": {},
          "output_type": "execute_result"
        }
      ],
      "source": [
        "# propotion of churn from customers who have Month-to-month contract in Month-to-month users\n",
        "\n",
        "df[(df['Contract']=='Month-to-month') & (df['Churn']==1)].shape[0]/df[df['Contract']=='Month-to-month'].shape[0]"
      ]
    },
    {
      "cell_type": "code",
      "execution_count": null,
      "metadata": {
        "id": "fCL9xsDdsDHo",
        "outputId": "01f06623-5873-4ab7-98db-c540fc6829f0"
      },
      "outputs": [
        {
          "data": {
            "text/plain": [
              "0.02356950163282692"
            ]
          },
          "execution_count": 45,
          "metadata": {},
          "output_type": "execute_result"
        }
      ],
      "source": [
        "# propotion of churn from customers who have One year contract in the whole data set\n",
        "\n",
        "df[(df['Contract']=='One year') & (df['Churn']==1)].shape[0]/df.shape[0]"
      ]
    },
    {
      "cell_type": "code",
      "execution_count": null,
      "metadata": {
        "id": "N1wGSsVKsDHo",
        "outputId": "73456d88-c0b6-47ac-e6f6-1435e2eff400"
      },
      "outputs": [
        {
          "data": {
            "text/plain": [
              "0.11269517990495587"
            ]
          },
          "execution_count": 46,
          "metadata": {},
          "output_type": "execute_result"
        }
      ],
      "source": [
        "# propotion of churn from customers who have One year contract in One year users\n",
        "\n",
        "df[(df['Contract']=='One year') & (df['Churn']==1)].shape[0]/df[df['Contract']=='One year'].shape[0]"
      ]
    },
    {
      "cell_type": "code",
      "execution_count": null,
      "metadata": {
        "id": "WxX2q_BMsDHp",
        "outputId": "678a9f44-7313-4bf7-cee8-c75a8b80dd52"
      },
      "outputs": [
        {
          "data": {
            "text/plain": [
              "0.006815277580576459"
            ]
          },
          "execution_count": 47,
          "metadata": {},
          "output_type": "execute_result"
        }
      ],
      "source": [
        "# propotion of churn from customers who have Two year contract in the whole data set\n",
        "\n",
        "df[(df['Contract']=='Two year') & (df['Churn']==1)].shape[0]/df.shape[0]"
      ]
    },
    {
      "cell_type": "code",
      "execution_count": null,
      "metadata": {
        "id": "4CVf2Sr6sDHp",
        "outputId": "af1118f4-1819-4193-e20f-3dc111b82449"
      },
      "outputs": [
        {
          "data": {
            "text/plain": [
              "0.02831858407079646"
            ]
          },
          "execution_count": 48,
          "metadata": {},
          "output_type": "execute_result"
        }
      ],
      "source": [
        "# propotion of churn from customers who have Two year contract in Two year users\n",
        "\n",
        "df[(df['Contract']=='Two year') & (df['Churn']==1)].shape[0]/df[df['Contract']=='Two year'].shape[0]"
      ]
    },
    {
      "cell_type": "markdown",
      "metadata": {
        "id": "yfRt3mzAp1xw"
      },
      "source": [
        "# planning "
      ]
    },
    {
      "cell_type": "code",
      "execution_count": null,
      "metadata": {
        "id": "gWPs4hOasDHp",
        "outputId": "fa6243a9-dc19-4c15-86b5-05385f161603"
      },
      "outputs": [
        {
          "data": {
            "text/plain": [
              "1    6361\n",
              "0     682\n",
              "Name: PhoneService, dtype: int64"
            ]
          },
          "execution_count": 49,
          "metadata": {},
          "output_type": "execute_result"
        }
      ],
      "source": [
        "df['PhoneService'].value_counts()"
      ]
    },
    {
      "cell_type": "code",
      "execution_count": null,
      "metadata": {
        "id": "0J1QZmKssDHp",
        "outputId": "b80fb03b-5132-4dc5-9d4f-08ded5cc7060"
      },
      "outputs": [
        {
          "data": {
            "text/plain": [
              "Fiber optic    3096\n",
              "DSL            2421\n",
              "0              1526\n",
              "Name: InternetService, dtype: int64"
            ]
          },
          "execution_count": 50,
          "metadata": {},
          "output_type": "execute_result"
        }
      ],
      "source": [
        "df['InternetService'].value_counts()"
      ]
    },
    {
      "cell_type": "code",
      "execution_count": null,
      "metadata": {
        "id": "IlO7beU-sDHq",
        "outputId": "a3d5b4ba-575b-4150-9ebf-f4ecd73622b2"
      },
      "outputs": [
        {
          "data": {
            "text/plain": [
              "0.1621468124378816"
            ]
          },
          "execution_count": 51,
          "metadata": {},
          "output_type": "execute_result"
        }
      ],
      "source": [
        "df['SeniorCitizen'].mean()"
      ]
    },
    {
      "cell_type": "code",
      "execution_count": null,
      "metadata": {
        "id": "zdmPuEaAsDHq",
        "outputId": "cb11aa97-5edc-485e-90be-131c62a8da0d"
      },
      "outputs": [
        {
          "data": {
            "text/plain": [
              "0.2546816479400749"
            ]
          },
          "execution_count": 52,
          "metadata": {},
          "output_type": "execute_result"
        }
      ],
      "source": [
        "df[(df['Churn'] == 1 )]['SeniorCitizen'].mean()"
      ]
    },
    {
      "cell_type": "code",
      "execution_count": null,
      "metadata": {
        "id": "f2772YjMsDHq",
        "outputId": "8b36227d-8ceb-4c96-f660-d13df9043c29"
      },
      "outputs": [
        {
          "data": {
            "text/plain": [
              "0.16318188963999372"
            ]
          },
          "execution_count": 53,
          "metadata": {},
          "output_type": "execute_result"
        }
      ],
      "source": [
        "df[(df['PhoneService'] == 1)]['SeniorCitizen'].mean()"
      ]
    },
    {
      "cell_type": "code",
      "execution_count": null,
      "metadata": {
        "id": "QWmd4jWFsDHr",
        "outputId": "d4631da0-25e8-4187-b768-8db0520050b0"
      },
      "outputs": [
        {
          "data": {
            "text/plain": [
              "0.15249266862170088"
            ]
          },
          "execution_count": 54,
          "metadata": {},
          "output_type": "execute_result"
        }
      ],
      "source": [
        "df[(df['PhoneService'] == 0)]['SeniorCitizen'].mean()"
      ]
    },
    {
      "cell_type": "code",
      "execution_count": null,
      "metadata": {
        "id": "a3j0-nXSsDHr",
        "outputId": "168ae7e5-267c-45e3-b52f-0782092f51b7"
      },
      "outputs": [
        {
          "data": {
            "text/plain": [
              "0.03407601572739188"
            ]
          },
          "execution_count": 55,
          "metadata": {},
          "output_type": "execute_result"
        }
      ],
      "source": [
        "df[(df['InternetService'] == 0)]['SeniorCitizen'].mean()"
      ]
    },
    {
      "cell_type": "code",
      "execution_count": null,
      "metadata": {
        "id": "c7zH1KTDsDHr",
        "outputId": "ab549bf3-c8a4-47db-d9f6-2edef420d987"
      },
      "outputs": [
        {
          "data": {
            "text/plain": [
              "3096"
            ]
          },
          "execution_count": 56,
          "metadata": {},
          "output_type": "execute_result"
        }
      ],
      "source": [
        "df[(df['InternetService'] == \"Fiber optic\" )].shape[0]"
      ]
    },
    {
      "cell_type": "code",
      "execution_count": null,
      "metadata": {
        "id": "lPCEriD1sDHr",
        "outputId": "e715070c-d992-4c5e-9b5c-e1a00c941c9a"
      },
      "outputs": [
        {
          "data": {
            "text/plain": [
              "SeniorCitizen      0.303007\n",
              "tenure            20.196608\n",
              "PhoneService       1.000000\n",
              "MonthlyCharges    88.126484\n",
              "Churn              1.000000\n",
              "dtype: float64"
            ]
          },
          "execution_count": 57,
          "metadata": {},
          "output_type": "execute_result"
        }
      ],
      "source": [
        "df[((df['InternetService'] == \"Fiber optic\" ) & (df['Churn']==1))].mean()"
      ]
    },
    {
      "cell_type": "code",
      "execution_count": null,
      "metadata": {
        "id": "s17WEeQVsDHs",
        "outputId": "df61513e-991c-42c5-cc53-351b8c23b764"
      },
      "outputs": [
        {
          "data": {
            "text/plain": [
              "0.18415447962515974"
            ]
          },
          "execution_count": 58,
          "metadata": {},
          "output_type": "execute_result"
        }
      ],
      "source": [
        "(df[((df['InternetService'] == \"Fiber optic\" ) & (df['Churn'] == 1 ))].shape[0])/df.shape[0]"
      ]
    },
    {
      "cell_type": "code",
      "execution_count": null,
      "metadata": {
        "id": "-tglHBW6sDHs",
        "outputId": "e62f8237-8ed4-47cd-dc46-c26323c0935a"
      },
      "outputs": [
        {
          "data": {
            "text/plain": [
              "0.06517109186426238"
            ]
          },
          "execution_count": 59,
          "metadata": {},
          "output_type": "execute_result"
        }
      ],
      "source": [
        "(df[((df['InternetService'] == \"DSL\" ) & (df['Churn'] == 1 ))].shape[0])/df.shape[0]"
      ]
    },
    {
      "cell_type": "code",
      "execution_count": null,
      "metadata": {
        "id": "Qnxfd4bisDHs",
        "outputId": "dea09ce8-b0e8-4120-fc4b-bd66cbf76424"
      },
      "outputs": [
        {
          "data": {
            "text/plain": [
              "0.016044299304273747"
            ]
          },
          "execution_count": 60,
          "metadata": {},
          "output_type": "execute_result"
        }
      ],
      "source": [
        "(df[((df['InternetService'] == 0 ) & (df['Churn'] == 1 ))].shape[0])/df.shape[0]"
      ]
    },
    {
      "cell_type": "markdown",
      "metadata": {
        "id": "tA1qA-4mp1xz"
      },
      "source": [
        "# visualization"
      ]
    },
    {
      "cell_type": "code",
      "execution_count": null,
      "metadata": {
        "id": "dGuYqAe-sDHs",
        "outputId": "11fab513-69e8-4b5c-eb20-fac330c94e65"
      },
      "outputs": [
        {
          "data": {
            "image/png": "[encoded data removed]",
            "text/plain": [
              "<Figure size 432x288 with 1 Axes>"
            ]
          },
          "metadata": {},
          "output_type": "display_data"
        }
      ],
      "source": [
        "df_ = df.groupby([\"gender\"])[\"Churn\"].sum()\n",
        "df_.plot.pie(autopct='%.1f%%', textprops=dict(color=\"w\"))\n",
        "plt.title('Customer Churn by Gender')\n",
        "plt.xlabel('')\n",
        "plt.ylabel('')\n",
        "plt.legend()\n",
        "plt.show()"
      ]
    },
    {
      "cell_type": "code",
      "execution_count": null,
      "metadata": {
        "id": "tYQHyTygsDHt",
        "outputId": "9ef3e316-d383-4ee5-ec30-3cd8812b53ed"
      },
      "outputs": [
        {
          "data": {
            "image/png": "[encoded data removed]",
            "text/plain": [
              "<Figure size 432x288 with 1 Axes>"
            ]
          },
          "metadata": {},
          "output_type": "display_data"
        }
      ],
      "source": [
        "df_ = df.groupby([\"Contract\"])[\"customerID\"].count()\n",
        "df_.plot.pie(autopct='%.1f%%', textprops=dict(color=\"w\"))\n",
        "plt.title('Contract Types')\n",
        "plt.xlabel('')\n",
        "plt.ylabel('')\n",
        "plt.legend()\n",
        "plt.show()"
      ]
    },
    {
      "cell_type": "code",
      "execution_count": null,
      "metadata": {
        "id": "de7WXOkvsDHt",
        "outputId": "79572169-307c-4172-cbac-b61fb0a42b94"
      },
      "outputs": [
        {
          "data": {
            "image/png": "[encoded data removed]",
            "text/plain": [
              "<Figure size 432x288 with 1 Axes>"
            ]
          },
          "metadata": {},
          "output_type": "display_data"
        }
      ],
      "source": [
        "df_ = df.groupby([\"InternetService\"])[\"customerID\"].count()\n",
        "df_.plot.pie(autopct='%.1f%%', textprops=dict(color=\"w\"))\n",
        "plt.title('Internet Service Types')\n",
        "plt.xlabel('')\n",
        "plt.ylabel('')\n",
        "plt.legend()\n",
        "plt.show()"
      ]
    },
    {
      "cell_type": "code",
      "execution_count": null,
      "metadata": {
        "id": "rmXsrtAAsDHt",
        "outputId": "51bbcfd9-888d-4cc1-a238-d5712612a3cd"
      },
      "outputs": [
        {
          "data": {
            "image/png": "[encoded data removed]",
            "text/plain": [
              "<Figure size 432x288 with 1 Axes>"
            ]
          },
          "metadata": {
            "needs_background": "light"
          },
          "output_type": "display_data"
        }
      ],
      "source": [
        "df_ = df.groupby([\"Contract\", \"Churn\"])[\"customerID\"].count().unstack(\"Churn\")\n",
        "df_.plot.bar(stacked=True)\n",
        "plt.title('Customers and Contract Types')\n",
        "plt.xlabel('Contracts')\n",
        "plt.ylabel('Customers Count')\n",
        "plt.show()"
      ]
    },
    {
      "cell_type": "code",
      "execution_count": null,
      "metadata": {
        "id": "Vrc5ZWPqsDHu",
        "outputId": "49419634-5d56-4b03-e9ef-a80ae3101157"
      },
      "outputs": [
        {
          "data": {
            "image/png": "[encoded data removed]",
            "text/plain": [
              "<Figure size 432x288 with 1 Axes>"
            ]
          },
          "metadata": {
            "needs_background": "light"
          },
          "output_type": "display_data"
        }
      ],
      "source": [
        "df_ = df.groupby([\"SeniorCitizen\", \"Churn\"])[\"customerID\"].count().unstack(\"Churn\")\n",
        "df_.plot.bar(stacked=True)\n",
        "plt.title('Customers and Contract Types')\n",
        "plt.xlabel('Seniority')\n",
        "plt.ylabel('Customers Count')\n",
        "plt.show()"
      ]
    },
    {
      "cell_type": "code",
      "execution_count": null,
      "metadata": {
        "id": "gZH1Y8AAsDHu",
        "outputId": "71fb5d5c-b294-4c36-da8f-7543eabf72cd"
      },
      "outputs": [
        {
          "data": {
            "image/png": "[encoded data removed]",
            "text/plain": [
              "<Figure size 432x288 with 1 Axes>"
            ]
          },
          "metadata": {
            "needs_background": "light"
          },
          "output_type": "display_data"
        }
      ],
      "source": [
        "df_ = df.groupby([\"PhoneService\", \"Churn\"])[\"customerID\"].count().unstack(\"Churn\")\n",
        "df_.plot.bar(stacked=True)\n",
        "plt.title('Customers and Phone Services')\n",
        "plt.xlabel('Phone Services')\n",
        "plt.ylabel('Customers Count')\n",
        "plt.show()"
      ]
    },
    {
      "cell_type": "code",
      "execution_count": null,
      "metadata": {
        "id": "Hd6OI6hasDHu",
        "outputId": "edde7865-e2da-452e-ebd5-ba1759288a76"
      },
      "outputs": [
        {
          "data": {
            "image/png": "[encoded data removed]",
            "text/plain": [
              "<Figure size 432x288 with 1 Axes>"
            ]
          },
          "metadata": {
            "needs_background": "light"
          },
          "output_type": "display_data"
        }
      ],
      "source": [
        "df_ = df.groupby([\"InternetService\", \"Churn\"])[\"customerID\"].count().unstack(\"Churn\")\n",
        "df_.plot.bar(stacked=True)\n",
        "plt.title('Customers and InternetService')\n",
        "plt.xlabel('InternetService')\n",
        "plt.ylabel('Customers Count')\n",
        "plt.show()"
      ]
    },
    {
      "cell_type": "code",
      "execution_count": null,
      "metadata": {
        "id": "upTNhli-sDHu",
        "outputId": "68bedc29-75e2-43da-c082-efd4d87d9d46"
      },
      "outputs": [
        {
          "data": {
            "text/html": [
              "<div>\n",
              "<style scoped>\n",
              "    .dataframe tbody tr th:only-of-type {\n",
              "        vertical-align: middle;\n",
              "    }\n",
              "\n",
              "    .dataframe tbody tr th {\n",
              "        vertical-align: top;\n",
              "    }\n",
              "\n",
              "    .dataframe thead th {\n",
              "        text-align: right;\n",
              "    }\n",
              "</style>\n",
              "<table border=\"1\" class=\"dataframe\">\n",
              "  <thead>\n",
              "    <tr style=\"text-align: right;\">\n",
              "      <th>Churn</th>\n",
              "      <th>0</th>\n",
              "      <th>1</th>\n",
              "    </tr>\n",
              "    <tr>\n",
              "      <th>PhoneService</th>\n",
              "      <th></th>\n",
              "      <th></th>\n",
              "    </tr>\n",
              "  </thead>\n",
              "  <tbody>\n",
              "    <tr>\n",
              "      <th>0</th>\n",
              "      <td>512</td>\n",
              "      <td>170</td>\n",
              "    </tr>\n",
              "    <tr>\n",
              "      <th>1</th>\n",
              "      <td>4662</td>\n",
              "      <td>1699</td>\n",
              "    </tr>\n",
              "  </tbody>\n",
              "</table>\n",
              "</div>"
            ],
            "text/plain": [
              "Churn            0     1\n",
              "PhoneService            \n",
              "0              512   170\n",
              "1             4662  1699"
            ]
          },
          "execution_count": 73,
          "metadata": {},
          "output_type": "execute_result"
        }
      ],
      "source": [
        "df_ = df.groupby([\"PhoneService\", \"Churn\"])[\"customerID\"].count().unstack(\"Churn\")\n",
        "df_"
      ]
    },
    {
      "cell_type": "markdown",
      "source": [
        "# Hypothesis testing"
      ],
      "metadata": {
        "id": "iL6bXwWpqXsb"
      }
    },
    {
      "cell_type": "markdown",
      "source": [
        "## Null Hypothesis, customer with no phone service are more likely to churn\n",
        "### Mean churn phone service >= mean churn no phone service\n",
        "### H0: Mph >= MNoph\n",
        "### H1: Mph < MNoPh\n",
        "### H0: Mph - MNoph >= 0\n",
        "#### H1: Mph - MNph < 0"
      ],
      "metadata": {
        "id": "tZks6VhQqcun"
      }
    },
    {
      "cell_type": "code",
      "execution_count": null,
      "metadata": {
        "id": "5Dv328Fbp1x2",
        "outputId": "ac9e416e-85b6-4ffc-97df-25fcfdde13af"
      },
      "outputs": [
        {
          "data": {
            "text/plain": [
              "0.01782950632543162"
            ]
          },
          "execution_count": 78,
          "metadata": {},
          "output_type": "execute_result"
        }
      ],
      "source": [
        "MNoph = df[df[\"PhoneService\"] == 0][\"Churn\"].mean()\n",
        "Mph = df[df[\"PhoneService\"] == 1][\"Churn\"].mean()\n",
        "obs_diff = Mph - MNoph\n",
        "obs_diff"
      ]
    },
    {
      "cell_type": "code",
      "execution_count": null,
      "metadata": {
        "id": "IL-9oD-Ap1x2"
      },
      "outputs": [],
      "source": [
        "n = df.shape[0]\n",
        "diff = []\n",
        "for _ in range(10000):\n",
        "    b_samp = df.sample(n, replace=True)\n",
        "    MNoph = b_samp[b_samp[\"PhoneService\"] == 0][\"Churn\"].mean()\n",
        "    Mph = b_samp[b_samp[\"PhoneService\"] == 1][\"Churn\"].mean()\n",
        "    diff_ = Mph - MNoph\n",
        "    diff.append(diff_)"
      ]
    },
    {
      "cell_type": "code",
      "execution_count": null,
      "metadata": {
        "id": "-xklhblrp1x3",
        "outputId": "7e1c39d0-52e2-4d35-9ed5-9f1314f52c32"
      },
      "outputs": [
        {
          "data": {
            "image/png": "[encoded data removed]",
            "text/plain": [
              "<Figure size 432x288 with 1 Axes>"
            ]
          },
          "metadata": {
            "needs_background": "light"
          },
          "output_type": "display_data"
        }
      ],
      "source": [
        "diff = np.array(diff)\n",
        "plt.hist(diff)\n",
        "plt.show()"
      ]
    },
    {
      "cell_type": "code",
      "execution_count": null,
      "metadata": {
        "id": "GlrpPvO2p1x3"
      },
      "outputs": [],
      "source": [
        "null_vals = np.random.normal(0, np.std(diff), diff.size)"
      ]
    },
    {
      "cell_type": "code",
      "execution_count": null,
      "metadata": {
        "id": "b4j4J0S2p1x3",
        "outputId": "12bb1f57-af99-4557-f2ae-9c525d8962d6"
      },
      "outputs": [
        {
          "data": {
            "image/png": "[encoded data removed]",
            "text/plain": [
              "<Figure size 432x288 with 1 Axes>"
            ]
          },
          "metadata": {
            "needs_background": "light"
          },
          "output_type": "display_data"
        }
      ],
      "source": [
        "plt.hist(null_vals);\n",
        "# plot line for observed statistic\n",
        "plt.axvline(obs_diff, color='r')\n",
        "plt.show()"
      ]
    },
    {
      "cell_type": "code",
      "execution_count": null,
      "metadata": {
        "id": "SuvEALbDp1x3",
        "outputId": "4892618a-a743-477a-be23-5ceba591478d"
      },
      "outputs": [
        {
          "data": {
            "text/plain": [
              "0.1503"
            ]
          },
          "execution_count": 89,
          "metadata": {},
          "output_type": "execute_result"
        }
      ],
      "source": [
        "# compute p value\n",
        "(null_vals > obs_diff).mean()"
      ]
    },
    {
      "cell_type": "markdown",
      "metadata": {
        "id": "gtwMYxUbp1x4"
      },
      "source": [
        "## We fail to reject the null hypothesis"
      ]
    },
    {
      "cell_type": "code",
      "execution_count": null,
      "metadata": {
        "id": "grED3PROp1x4"
      },
      "outputs": [],
      "source": [
        ""
      ]
    }
  ],
  "metadata": {
    "colab": {
      "name": "Telecom (1).ipynb",
      "provenance": [],
      "collapsed_sections": []
    },
    "kernelspec": {
      "display_name": "Python 3",
      "language": "python",
      "name": "python3"
    },
    "language_info": {
      "codemirror_mode": {
        "name": "ipython",
        "version": 3
      },
      "file_extension": ".py",
      "mimetype": "text/x-python",
      "name": "python",
      "nbconvert_exporter": "python",
      "pygments_lexer": "ipython3",
      "version": "3.7.3"
    }
  },
  "nbformat": 4,
  "nbformat_minor": 0
}